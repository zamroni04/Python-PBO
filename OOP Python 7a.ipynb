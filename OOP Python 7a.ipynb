{
 "cells": [
  {
   "cell_type": "markdown",
   "metadata": {},
   "source": [
    "# Capain Praktikum 7a\n",
    "\n",
    "Diharapkan mahasiswa/i setelah mengikuti praktikum 5 - PBO, mampu memahami & mengimplementasikan :\n",
    "\n",
    "1. Python MySQL\n",
    "2. Create, Read, Update dan Delete data di MySQL menggunakan Python\n",
    "\n",
    "Referensi :\n",
    "1. https://www.w3schools.com/python/python_mysql_getstarted.asp\n",
    "2. https://www.petanikode.com/python-mysql/\n",
    "3. https://realpython.com/python-mysql/"
   ]
  },
  {
   "cell_type": "markdown",
   "metadata": {},
   "source": [
    "# Library"
   ]
  },
  {
   "cell_type": "code",
   "execution_count": 1,
   "metadata": {},
   "outputs": [
    {
     "name": "stdout",
     "output_type": "stream",
     "text": [
      "Requirement already satisfied: mysql-connector in c:\\users\\ilyas_\\anaconda3\\lib\\site-packages (2.2.9)\n"
     ]
    }
   ],
   "source": [
    "!pip install mysql-connector"
   ]
  },
  {
   "cell_type": "markdown",
   "metadata": {},
   "source": [
    "# Barang Service"
   ]
  },
  {
   "cell_type": "code",
   "execution_count": 2,
   "metadata": {},
   "outputs": [],
   "source": [
    "import mysql.connector\n",
    "\n",
    "class Barang_Service:\n",
    "    \n",
    "    def __init__(self):        \n",
    "        self.conn = None\n",
    "\n",
    "    def get_koneksi_db(self):\n",
    "        self.conn = mysql.connector.connect(host=\"localhost\" ,\n",
    "                                            user=\"root\",\n",
    "                                            password=\"\",\n",
    "                                            database=\"warung\")\n",
    "        if self.conn.is_connected():\n",
    "            print(\"Berhasil terhubung ke database\")\n",
    "        \n",
    "        return self.conn\n",
    "\n",
    "    def insert_data(self, nama_barang, kuantitas, harga_beli, harga_jual):\n",
    "        \n",
    "        koneksi_db = self.get_koneksi_db()\n",
    "        cursor = koneksi_db.cursor()\n",
    "        \n",
    "        sql = \"INSERT INTO barang (nama_barang, kuantitas, harga_beli, harga_jual) VALUES (%s, %s, %s, %s)\"\n",
    "        val = (nama_barang, kuantitas, harga_beli, harga_jual)\n",
    "        \n",
    "        cursor.execute(sql, val)\n",
    "\n",
    "        koneksi_db.commit()\n",
    "\n",
    "        print(\"{} data ditambahkan\".format(cursor.rowcount))\n",
    "        self.tampilkan_data()\n",
    "        \n",
    "    def update_data(self, nama_barang, kuantitas, harga_beli, harga_jual, id_barang):\n",
    "        koneksi_db = self.get_koneksi_db()\n",
    "        cursor = koneksi_db.cursor()\n",
    "        \n",
    "        sql = \"UPDATE barang set nama_barang=%s, kuantitas=%s, harga_beli=%s, harga_jual=%s WHERE id_barang=%s\"\n",
    "        val = (nama_barang, kuantitas, harga_beli, harga_jual, id_barang)\n",
    "        cursor.execute(sql, val)\n",
    "\n",
    "        koneksi_db.commit()\n",
    "\n",
    "        print(\"{} data diupdate\".format(cursor.rowcount))\n",
    "        self.tampilkan_data()\n",
    "\n",
    "    \n",
    "    def delete_data(self, id_barang):\n",
    "        koneksi_db = self.get_koneksi_db()\n",
    "        cursor = koneksi_db.cursor()\n",
    "        \n",
    "        sql = \"DELETE FROM barang WHERE id_barang=%s\"\n",
    "        val = (id_barang, )\n",
    "        cursor.execute(sql, val)\n",
    "\n",
    "        koneksi_db.commit()\n",
    "\n",
    "        print(\"{} data dihapus\".format(cursor.rowcount))\n",
    "        self.tampilkan_data()\n",
    "    \n",
    "    def tampilkan_data(self):\n",
    "        koneksi_db = self.get_koneksi_db()\n",
    "        cursor = koneksi_db.cursor()\n",
    "\n",
    "        sql = \"SELECT * FROM barang\"\n",
    "        cursor.execute(sql)\n",
    "\n",
    "        results = cursor.fetchall()\n",
    "\n",
    "        for data in results:\n",
    "            print(data)"
   ]
  },
  {
   "cell_type": "markdown",
   "metadata": {},
   "source": [
    "# Insert Data"
   ]
  },
  {
   "cell_type": "code",
   "execution_count": 5,
   "metadata": {},
   "outputs": [
    {
     "name": "stdout",
     "output_type": "stream",
     "text": [
      "==========Insert Data===========\n",
      "Berhasil terhubung ke database\n",
      "1 data ditambahkan\n",
      "Berhasil terhubung ke database\n",
      "(2, 'Mie Sedap Rendang Istimewa', 1, 2000, 2500)\n",
      "(4, 'Mie Sedap Ayam Spesial', 100, 2000, 2500)\n",
      "(6, 'Mie Sedap Soto', 100, 2000, 2500)\n",
      "(7, 'Mie Sedap Soto', 100, 2000, 2500)\n",
      "(8, 'Mie Sedap Soto', 100, 2000, 2500)\n",
      "(9, 'Mie Sedap Soto', 100, 2000, 2500)\n",
      "(10, 'Bango 750 mL', 125, 1000, 1500)\n",
      "(11, 'Mie Sedap Soto', 100, 2000, 2500)\n",
      "(12, 'Mie Sedap Soto', 100, 2000, 2500)\n",
      "(16, 'Mie Sedap Soto', 100, 2000, 2500)\n",
      "(17, 'Oskadon', 125, 1000, 1500)\n",
      "(19, 'Oskadon', 125, 1000, 1500)\n",
      "(20, 'Oskadon', 125, 1000, 1500)\n",
      "(21, 'Oskadon', 125, 1000, 1500)\n",
      "(22, 'Oskadon', 125, 1000, 1500)\n",
      "(23, 'Wipol Lantai 1 Liter', 125, 1000, 1500)\n",
      "(24, 'Oskadon', 125, 1000, 1500)\n",
      "(25, 'Oskadon', 125, 1000, 1500)\n",
      "(26, 'Mie Sedap Rawon', 125, 1000, 1500)\n",
      "(27, 'Bango 750 mL', 125, 1000, 1500)\n",
      "(28, 'Mie Sedap Soto Madura', 125, 1000, 1500)\n",
      "(29, 'Mie Sedap Soto Madura', 125, 1000, 1500)\n",
      "(30, 'Mie Sedap Soto Madura', 125, 1000, 1500)\n",
      "(31, 'Mie Sedap Soto Madura', 125, 1000, 1500)\n",
      "(32, 'Mie Sedap Soto Madura', 125, 1000, 1500)\n",
      "(33, 'Mie Sedap Soto Madura', 125, 1000, 1500)\n",
      "(34, 'Mie Sedap Soto Madura', 125, 1000, 1500)\n",
      "(35, 'Mie Sedap Soto Madura', 125, 1000, 1500)\n",
      "(37, 'Oskadon', 125, 1000, 1500)\n",
      "(38, 'Panodal', 500, 7500, 12000)\n",
      "(39, 'Panadol', 500, 7500, 12000)\n"
     ]
    }
   ],
   "source": [
    "print(\"==========Insert Data===========\")\n",
    "Barang_Service().insert_data(\"Panadol\", 500, 7500, 12000)"
   ]
  },
  {
   "cell_type": "markdown",
   "metadata": {},
   "source": [
    "# Update Data"
   ]
  },
  {
   "cell_type": "code",
   "execution_count": 6,
   "metadata": {},
   "outputs": [
    {
     "name": "stdout",
     "output_type": "stream",
     "text": [
      "==========Update Data===========\n",
      "Berhasil terhubung ke database\n",
      "1 data diupdate\n",
      "Berhasil terhubung ke database\n",
      "(2, 'Mie Sedap Rendang Istimewa', 1, 2000, 2500)\n",
      "(4, 'Mie Sedap Ayam Spesial', 100, 2000, 2500)\n",
      "(6, 'Mie Sedap Soto', 100, 2000, 2500)\n",
      "(7, 'Mie Sedap Soto', 100, 2000, 2500)\n",
      "(8, 'Mie Sedap Soto', 100, 2000, 2500)\n",
      "(9, 'Mie Sedap Soto', 100, 2000, 2500)\n",
      "(10, 'Bango 750 mL', 125, 1000, 1500)\n",
      "(11, 'Mie Sedap Soto', 100, 2000, 2500)\n",
      "(12, 'Mie Sedap Soto', 100, 2000, 2500)\n",
      "(16, 'Mie Sedap Soto', 100, 2000, 2500)\n",
      "(17, 'Oskadon', 125, 1000, 1500)\n",
      "(19, 'Oskadon', 125, 1000, 1500)\n",
      "(20, 'Oskadon', 125, 1000, 1500)\n",
      "(21, 'Oskadon', 125, 1000, 1500)\n",
      "(22, 'Oskadon', 125, 1000, 1500)\n",
      "(23, 'Wipol Lantai 1 Liter', 125, 1000, 1500)\n",
      "(24, 'Oskadon', 125, 1000, 1500)\n",
      "(25, 'Oskadon', 125, 1000, 1500)\n",
      "(26, 'Mie Sedap Rawon', 125, 1000, 1500)\n",
      "(27, 'Bango 750 mL', 125, 1000, 1500)\n",
      "(28, 'Mie Sedap Soto Madura', 125, 1000, 1500)\n",
      "(29, 'Mie Sedap Soto Madura', 125, 1000, 1500)\n",
      "(30, 'Mie Sedap Soto Madura', 125, 1000, 1500)\n",
      "(31, 'Mie Sedap Soto Madura', 125, 1000, 1500)\n",
      "(32, 'Mie Sedap Soto Madura', 125, 1000, 1500)\n",
      "(33, 'Mie Sedap Soto Madura', 125, 1000, 1500)\n",
      "(34, 'Mie Sedap Soto Madura', 125, 1000, 1500)\n",
      "(35, 'Mie Sedap Soto Madura', 125, 1000, 1500)\n",
      "(37, 'Oskadon', 125, 1000, 1500)\n",
      "(38, 'Mie Sedap Soto Spesial', 125, 1000, 1500)\n",
      "(39, 'Panadol', 500, 7500, 12000)\n"
     ]
    }
   ],
   "source": [
    "print(\"==========Update Data===========\")\n",
    "Barang_Service().update_data(\"Mie Sedap Soto Spesial\", 125, 1000, 1500, 38)"
   ]
  },
  {
   "cell_type": "markdown",
   "metadata": {},
   "source": [
    "# Delete Data"
   ]
  },
  {
   "cell_type": "code",
   "execution_count": 7,
   "metadata": {},
   "outputs": [
    {
     "name": "stdout",
     "output_type": "stream",
     "text": [
      "==========Delete Data===========\n",
      "Berhasil terhubung ke database\n",
      "1 data dihapus\n",
      "Berhasil terhubung ke database\n",
      "(2, 'Mie Sedap Rendang Istimewa', 1, 2000, 2500)\n",
      "(4, 'Mie Sedap Ayam Spesial', 100, 2000, 2500)\n",
      "(6, 'Mie Sedap Soto', 100, 2000, 2500)\n",
      "(7, 'Mie Sedap Soto', 100, 2000, 2500)\n",
      "(8, 'Mie Sedap Soto', 100, 2000, 2500)\n",
      "(9, 'Mie Sedap Soto', 100, 2000, 2500)\n",
      "(10, 'Bango 750 mL', 125, 1000, 1500)\n",
      "(11, 'Mie Sedap Soto', 100, 2000, 2500)\n",
      "(12, 'Mie Sedap Soto', 100, 2000, 2500)\n",
      "(16, 'Mie Sedap Soto', 100, 2000, 2500)\n",
      "(17, 'Oskadon', 125, 1000, 1500)\n",
      "(19, 'Oskadon', 125, 1000, 1500)\n",
      "(20, 'Oskadon', 125, 1000, 1500)\n",
      "(21, 'Oskadon', 125, 1000, 1500)\n",
      "(22, 'Oskadon', 125, 1000, 1500)\n",
      "(23, 'Wipol Lantai 1 Liter', 125, 1000, 1500)\n",
      "(24, 'Oskadon', 125, 1000, 1500)\n",
      "(25, 'Oskadon', 125, 1000, 1500)\n",
      "(26, 'Mie Sedap Rawon', 125, 1000, 1500)\n",
      "(27, 'Bango 750 mL', 125, 1000, 1500)\n",
      "(28, 'Mie Sedap Soto Madura', 125, 1000, 1500)\n",
      "(29, 'Mie Sedap Soto Madura', 125, 1000, 1500)\n",
      "(30, 'Mie Sedap Soto Madura', 125, 1000, 1500)\n",
      "(32, 'Mie Sedap Soto Madura', 125, 1000, 1500)\n",
      "(33, 'Mie Sedap Soto Madura', 125, 1000, 1500)\n",
      "(34, 'Mie Sedap Soto Madura', 125, 1000, 1500)\n",
      "(35, 'Mie Sedap Soto Madura', 125, 1000, 1500)\n",
      "(37, 'Oskadon', 125, 1000, 1500)\n",
      "(38, 'Mie Sedap Soto Spesial', 125, 1000, 1500)\n",
      "(39, 'Panadol', 500, 7500, 12000)\n"
     ]
    }
   ],
   "source": [
    "print(\"==========Delete Data===========\")\n",
    "Barang_Service().delete_data(31)"
   ]
  }
 ],
 "metadata": {
  "kernelspec": {
   "display_name": "Python 3",
   "language": "python",
   "name": "python3"
  },
  "language_info": {
   "codemirror_mode": {
    "name": "ipython",
    "version": 3
   },
   "file_extension": ".py",
   "mimetype": "text/x-python",
   "name": "python",
   "nbconvert_exporter": "python",
   "pygments_lexer": "ipython3",
   "version": "3.8.3"
  }
 },
 "nbformat": 4,
 "nbformat_minor": 4
}
