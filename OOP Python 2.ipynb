{
 "cells": [
  {
   "cell_type": "markdown",
   "metadata": {
    "id": "OOxz-jakL2df"
   },
   "source": [
    "# Capain Praktikum 2\n",
    "Diharapkan mahasiswa/i setelah mengikuti praktikum 2 - PBO, mampu memahami & mengimplementasikan :\n",
    "1. Constructor\n",
    "2. Overloading & Overriding Method\n",
    "\n",
    "Referensi :\n",
    "1. https://data-flair.training/blogs/python-inheritance/\n",
    "2. https://www.geeksforgeeks.org/difference-between-method-overloading-and-method-overriding-in-python/\n",
    "3. https://www.geeksforgeeks.org/formatted-string-literals-f-strings-python/"
   ]
  },
  {
   "cell_type": "markdown",
   "metadata": {
    "id": "4bvRdSQdZILY"
   },
   "source": [
    "# Method"
   ]
  },
  {
   "cell_type": "code",
   "execution_count": 4,
   "metadata": {
    "colab": {
     "base_uri": "https://localhost:8080/"
    },
    "executionInfo": {
     "elapsed": 491,
     "status": "ok",
     "timestamp": 1622699172094,
     "user": {
      "displayName": "ZRI -",
      "photoUrl": "https://lh3.googleusercontent.com/a-/AOh14GjTWrj1bhN5GNJhO1Hd9tpWnM0OVqHqnnqcCB5PbQ=s64",
      "userId": "04580829095111164986"
     },
     "user_tz": -420
    },
    "id": "1lHprhaDZHtP",
    "outputId": "c42b85b7-e6df-43f8-9b09-53694d13d689"
   },
   "outputs": [],
   "source": [
    "class demoA:\n",
    "    def show(self):\n",
    "        print(\"Thank you for instantiating me :)\")\n",
    "\n",
    "variable=demoA()\n",
    "variable.show()"
   ]
  },
  {
   "cell_type": "markdown",
   "metadata": {
    "id": "dC8lR61vZ5ro"
   },
   "source": [
    "# Constructor"
   ]
  },
  {
   "cell_type": "code",
   "execution_count": 1,
   "metadata": {},
   "outputs": [
    {
     "name": "stdout",
     "output_type": "stream",
     "text": [
      "Tanpa Constructor\n"
     ]
    }
   ],
   "source": [
    "class demo:\n",
    "    def hello(self):\n",
    "        print(\"Tanpa Constructor\")\n",
    "\n",
    "obj=demo()\n",
    "obj.hello()"
   ]
  },
  {
   "cell_type": "code",
   "execution_count": 3,
   "metadata": {
    "colab": {
     "base_uri": "https://localhost:8080/"
    },
    "executionInfo": {
     "elapsed": 9,
     "status": "ok",
     "timestamp": 1622699172588,
     "user": {
      "displayName": "ZRI -",
      "photoUrl": "https://lh3.googleusercontent.com/a-/AOh14GjTWrj1bhN5GNJhO1Hd9tpWnM0OVqHqnnqcCB5PbQ=s64",
      "userId": "04580829095111164986"
     },
     "user_tz": -420
    },
    "id": "7T625srtZYaQ",
    "outputId": "68bc1d24-2b5e-41ad-c2a1-5ac970ccdc23"
   },
   "outputs": [
    {
     "name": "stdout",
     "output_type": "stream",
     "text": [
      "Thank you for instantiating me, I'm all Merah. Would you like some Teh? :)\n"
     ]
    }
   ],
   "source": [
    "class demo:\n",
    "    def __init__(self, color, drink):\n",
    "        self.color=color\n",
    "        self.drink=drink\n",
    "\n",
    "    def hello(self):\n",
    "        print(f\"Thank you for instantiating me, I'm all {self.color}. Would you like some {self.drink}? :)\")\n",
    "\n",
    "variabel=demo(\"Merah\", \"Teh\")\n",
    "variabel.hello()"
   ]
  },
  {
   "cell_type": "markdown",
   "metadata": {
    "id": "w4jPvxDbSFb2"
   },
   "source": [
    "# Perbedaan Antara Overload dan Overriding Method\n",
    "\n",
    "![overload.PNG](data:image/png;base64,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)"
   ]
  },
  {
   "cell_type": "markdown",
   "metadata": {
    "id": "OOM9TTOOSlAp"
   },
   "source": [
    "# Overloading Method 1"
   ]
  },
  {
   "cell_type": "code",
   "execution_count": 6,
   "metadata": {
    "colab": {
     "base_uri": "https://localhost:8080/",
     "height": 197
    },
    "executionInfo": {
     "elapsed": 13,
     "status": "error",
     "timestamp": 1622699172593,
     "user": {
      "displayName": "ZRI -",
      "photoUrl": "https://lh3.googleusercontent.com/a-/AOh14GjTWrj1bhN5GNJhO1Hd9tpWnM0OVqHqnnqcCB5PbQ=s64",
      "userId": "04580829095111164986"
     },
     "user_tz": -420
    },
    "id": "4FP82VTvVRsQ",
    "outputId": "ad8d7a33-1a4d-4a52-83ac-f4d18d691f35"
   },
   "outputs": [
    {
     "data": {
      "text/plain": [
       "8"
      ]
     },
     "execution_count": 6,
     "metadata": {},
     "output_type": "execute_result"
    }
   ],
   "source": [
    "def add(a,b):\n",
    "    return a+b\n",
    "  \n",
    "def add(a,b,c):\n",
    "    return a+b+c\n",
    "\n",
    "add(2, 3, 3)"
   ]
  },
  {
   "cell_type": "markdown",
   "metadata": {
    "id": "RaeyRmC6Vqof"
   },
   "source": [
    "# Overloading Method 2"
   ]
  },
  {
   "cell_type": "code",
   "execution_count": 10,
   "metadata": {},
   "outputs": [],
   "source": [
    "for x in args:\n",
    "    answer = answer + x\n",
    "    \n",
    "    i = 0, x = 5\n",
    "    0 = (0 + 5)\n",
    "    5\n",
    "    \n",
    "    i= 1, x = 6\n",
    "    5 = (5 + 6)\n",
    "    11\n",
    "    \n",
    "    i = 2, x = 7\n",
    "    11 = 11 + 7\n",
    "    18\n",
    "    \n",
    "    i = 3, x = 8\n",
    "    18 = 18 + 8\n",
    "    26\n",
    "    "
   ]
  },
  {
   "cell_type": "code",
   "execution_count": 8,
   "metadata": {
    "colab": {
     "base_uri": "https://localhost:8080/"
    },
    "executionInfo": {
     "elapsed": 299,
     "status": "ok",
     "timestamp": 1622699178980,
     "user": {
      "displayName": "ZRI -",
      "photoUrl": "https://lh3.googleusercontent.com/a-/AOh14GjTWrj1bhN5GNJhO1Hd9tpWnM0OVqHqnnqcCB5PbQ=s64",
      "userId": "04580829095111164986"
     },
     "user_tz": -420
    },
    "id": "8BVJEKhASEvp",
    "outputId": "52284e49-68fe-4b57-a047-b5c21ee7a04a"
   },
   "outputs": [],
   "source": [
    "def add(datatype, *args):\n",
    "   \n",
    "    if datatype =='int':\n",
    "        answer = 0\n",
    "           \n",
    "    if datatype =='str':\n",
    "        answer =''\n",
    "   \n",
    "    for x in args:\n",
    "        answer = answer + x\n",
    "        \n",
    "    print(answer)"
   ]
  },
  {
   "cell_type": "code",
   "execution_count": 9,
   "metadata": {},
   "outputs": [
    {
     "name": "stdout",
     "output_type": "stream",
     "text": [
      "26\n",
      "Hi Gaes \n"
     ]
    }
   ],
   "source": [
    "add('int', 5, 6, 7, 8)\n",
    "   \n",
    "add('str', 'Hi ', 'Gaes ')"
   ]
  },
  {
   "cell_type": "markdown",
   "metadata": {
    "id": "39pe3ZISUcGo"
   },
   "source": [
    "# Overriding Method 1"
   ]
  },
  {
   "cell_type": "code",
   "execution_count": 10,
   "metadata": {
    "colab": {
     "base_uri": "https://localhost:8080/"
    },
    "executionInfo": {
     "elapsed": 297,
     "status": "ok",
     "timestamp": 1622699183257,
     "user": {
      "displayName": "ZRI -",
      "photoUrl": "https://lh3.googleusercontent.com/a-/AOh14GjTWrj1bhN5GNJhO1Hd9tpWnM0OVqHqnnqcCB5PbQ=s64",
      "userId": "04580829095111164986"
     },
     "user_tz": -420
    },
    "id": "HN7xs6d6LBjC",
    "outputId": "55f147ec-df01-45ed-964d-18d033c6fc3e"
   },
   "outputs": [
    {
     "name": "stdout",
     "output_type": "stream",
     "text": [
      "Modified feature_1 of class A by class B\n"
     ]
    }
   ],
   "source": [
    "class A:\n",
    "    def fun1(self):\n",
    "        print('feature_1 of class A')\n",
    "         \n",
    "    def fun2(self):\n",
    "        print('feature_2 of class A')\n",
    "\n",
    "class B(A):    \n",
    "    def fun1(self):\n",
    "        print('Modified feature_1 of class A by class B')   \n",
    "         \n",
    "    def fun3(self):\n",
    "        print('feature_3 of class B')\n",
    "         \n",
    "obj = B()     \n",
    "obj.fun1()"
   ]
  },
  {
   "cell_type": "markdown",
   "metadata": {
    "id": "tLVCq-QKWCMA"
   },
   "source": [
    "# Overriding Method 2"
   ]
  },
  {
   "cell_type": "code",
   "execution_count": 10,
   "metadata": {
    "colab": {
     "base_uri": "https://localhost:8080/"
    },
    "executionInfo": {
     "elapsed": 303,
     "status": "ok",
     "timestamp": 1622699185652,
     "user": {
      "displayName": "ZRI -",
      "photoUrl": "https://lh3.googleusercontent.com/a-/AOh14GjTWrj1bhN5GNJhO1Hd9tpWnM0OVqHqnnqcCB5PbQ=s64",
      "userId": "04580829095111164986"
     },
     "user_tz": -420
    },
    "id": "mqdBRN7HWBx6",
    "outputId": "a215bf3d-25cb-4b7d-bbd4-4c7c7548b28b"
   },
   "outputs": [
    {
     "name": "stdout",
     "output_type": "stream",
     "text": [
      "I'm in A\n",
      "I'm in B\n"
     ]
    }
   ],
   "source": [
    "class A:\n",
    "    def say_hi(self):\n",
    "        print(\"I'm in A\")     \n",
    "\n",
    "class B(A):\n",
    "    def say_hi(self):\n",
    "        print(\"I'm in B\")       \n",
    "                          \n",
    "objectA=A()\n",
    "objectA.say_hi()\n",
    "objectB=B()\n",
    "objectB.say_hi()"
   ]
  },
  {
   "cell_type": "code",
   "execution_count": null,
   "metadata": {},
   "outputs": [],
   "source": []
  }
 ],
 "metadata": {
  "colab": {
   "authorship_tag": "ABX9TyNbNR4rxIPa4TJjd/EN9Kdy",
   "collapsed_sections": [],
   "name": "OOP Python 2.ipynb",
   "provenance": []
  },
  "kernelspec": {
   "display_name": "Python 3",
   "language": "python",
   "name": "python3"
  },
  "language_info": {
   "codemirror_mode": {
    "name": "ipython",
    "version": 3
   },
   "file_extension": ".py",
   "mimetype": "text/x-python",
   "name": "python",
   "nbconvert_exporter": "python",
   "pygments_lexer": "ipython3",
   "version": "3.7.3"
  }
 },
 "nbformat": 4,
 "nbformat_minor": 4
}
