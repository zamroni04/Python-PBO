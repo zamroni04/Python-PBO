{
 "cells": [
  {
   "cell_type": "markdown",
   "metadata": {
    "id": "RZUh6baYL-63"
   },
   "source": [
    "# Capain Praktikum 1\n",
    "Diharapkan mahasiswa/i setelah mengikuti praktikum 1 - PBO, mampu memahami & mengimplementasikan :\n",
    "1. Class\n",
    "2. Variable\n",
    "3. Method Getter & Setter\n",
    "4. Looping List\n",
    "5. Dataframe Sederhana\n",
    "\n",
    "Referensi :\n",
    "1. https://www.pythonindo.com/pemrograman-berorientasi-objek-di-python/\n",
    "2. Guttag, John V. Introduction to Computation and Programming Using Python: With Application to Computational Modeling and Understanding Data. MIT Press, 2021."
   ]
  },
  {
   "cell_type": "markdown",
   "metadata": {
    "id": "xHwHmH0ML-7N"
   },
   "source": [
    "## Class"
   ]
  },
  {
   "cell_type": "code",
   "execution_count": 1,
   "metadata": {
    "executionInfo": {
     "elapsed": 3,
     "status": "ok",
     "timestamp": 1622698327600,
     "user": {
      "displayName": "ZRI -",
      "photoUrl": "https://lh3.googleusercontent.com/a-/AOh14GjTWrj1bhN5GNJhO1Hd9tpWnM0OVqHqnnqcCB5PbQ=s64",
      "userId": "04580829095111164986"
     },
     "user_tz": -420
    },
    "id": "Dr7hySxbL-7P"
   },
   "outputs": [],
   "source": [
    "class Karyawan:\n",
    "    jumlah_karyawan = 0\n",
    "\n",
    "    def __init__(self, nama, gaji):\n",
    "        self.nama = nama\n",
    "        self.gaji = gaji\n",
    "        Karyawan.jumlah_karyawan = Karyawan.jumlah_karyawan + 1\n",
    "\n",
    "    def tampilkan_jumlah(self):\n",
    "        print(\"Total karyawan:\", Karyawan.jumlah_karyawan)\n",
    "\n",
    "    def tampilkan_profil(self):\n",
    "        print(\"Nama :\", self.nama)\n",
    "        print(\"Gaji :\", self.gaji)\n",
    "        print()"
   ]
  },
  {
   "cell_type": "markdown",
   "metadata": {
    "id": "xiTaoX_EL-7Q"
   },
   "source": [
    "## Membuat Object dari Class (Instansiasi)"
   ]
  },
  {
   "cell_type": "code",
   "execution_count": null,
   "metadata": {
    "id": "PYvjQHnoL-7R"
   },
   "outputs": [],
   "source": [
    "# Membuat objek pertama dari kelas Karyawan\n",
    "karyawan1 = Karyawan(\"Sarah\", 1000000)\n",
    "\n",
    "# Membuat objek kedua dari kelas Karyawan\n",
    "karyawan2 = Karyawan(\"Budi\", 2000000)"
   ]
  },
  {
   "cell_type": "markdown",
   "metadata": {
    "id": "QVz8r705L-7S"
   },
   "source": [
    "## Mengakses Method/Function dari Object"
   ]
  },
  {
   "cell_type": "code",
   "execution_count": null,
   "metadata": {
    "colab": {
     "base_uri": "https://localhost:8080/"
    },
    "executionInfo": {
     "elapsed": 1765,
     "status": "ok",
     "timestamp": 1617434850859,
     "user": {
      "displayName": "ZRI -",
      "photoUrl": "https://lh3.googleusercontent.com/a-/AOh14GjTWrj1bhN5GNJhO1Hd9tpWnM0OVqHqnnqcCB5PbQ=s64",
      "userId": "04580829095111164986"
     },
     "user_tz": -420
    },
    "id": "fzzXhmmLL-7T",
    "outputId": "badc4252-d92c-4bf0-905d-60e266174a93"
   },
   "outputs": [
    {
     "name": "stdout",
     "output_type": "stream",
     "text": [
      "Nama : Sarah\n",
      "Gaji : 1000000\n",
      "\n",
      "Nama : Budi\n",
      "Gaji : 2000000\n",
      "\n",
      "Total karyawan : 2\n"
     ]
    }
   ],
   "source": [
    "karyawan1.tampilkan_profil()\n",
    "karyawan2.tampilkan_profil()\n",
    "print(\"Total karyawan :\", Karyawan.jumlah_karyawan)"
   ]
  },
  {
   "cell_type": "markdown",
   "metadata": {
    "id": "iG5Ya_bnL-7W"
   },
   "source": [
    "## Class dengan Method Getter & Setter"
   ]
  },
  {
   "cell_type": "code",
   "execution_count": null,
   "metadata": {
    "id": "7c7OLMaHL-7X"
   },
   "outputs": [],
   "source": [
    "import datetime\n",
    "\n",
    "class Person(object):\n",
    "    def __init__(self, name):\n",
    "        \"\"\"Create a person\"\"\"\n",
    "        self.name = name\n",
    "        try:\n",
    "            lastBlank = name.rindex(' ')\n",
    "            self.lastName = name[lastBlank+1:]\n",
    "        except:\n",
    "            self.lastName = name\n",
    "            self.birthday = None\n",
    "            \n",
    "    def getName(self):\n",
    "        \"\"\"Returns self's full name\"\"\"\n",
    "        return self.name\n",
    "    \n",
    "    def getLastName(self):\n",
    "        \"\"\"Returns self's last name\"\"\"\n",
    "        return self.lastName\n",
    "\n",
    "    def setBirthday(self, birthdate):\n",
    "        \"\"\"Assumes birthdate is of type datetime.date\n",
    "        Sets self's birthday to birthdate\"\"\"\n",
    "        self.birthday = birthdate\n",
    "        \n",
    "    def getBirthday(self):        \n",
    "        return self.birthday\n",
    "\n",
    "    def getAge(self):\n",
    "        \"\"\"Returns self's current age in days\"\"\"\n",
    "        if self.birthday == None:\n",
    "            raise ValueError\n",
    "        return (datetime.date.today() - self.birthday).days\n",
    "    \n",
    "    def __lt__(self, other):\n",
    "        \"\"\"Returns True if self precedes other in alphabetical\n",
    "        order, and False otherwise. Comparison is based on last\n",
    "        names, but if these are the same full names are\n",
    "        compared.\"\"\"\n",
    "        if self.lastName == other.lastName:\n",
    "            return self.name < other.name\n",
    "        return self.lastName < other.lastName\n",
    "    \n",
    "    def __str__(self):\n",
    "        \"\"\"Returns self's name\"\"\"\n",
    "        return self.name"
   ]
  },
  {
   "cell_type": "markdown",
   "metadata": {
    "id": "li_IKilNL-7Z"
   },
   "source": [
    "## Membuat object dari Class (Instansiasi)"
   ]
  },
  {
   "cell_type": "code",
   "execution_count": null,
   "metadata": {
    "id": "EyzQy25UL-7Z",
    "outputId": "fd870e9d-4993-4a2d-8759-6a927e439a3c"
   },
   "outputs": [
    {
     "name": "stdout",
     "output_type": "stream",
     "text": [
      "Barack Hussein Obama\n",
      "Obama\n",
      "Barack Hussein Obama is 8995 days old\n"
     ]
    }
   ],
   "source": [
    "me = Person('MichaelG uttag')\n",
    "him = Person('Barack Hussein Obama')\n",
    "her = Person('Madonna')\n",
    "print(him.getName())\n",
    "print(him.getLastName())\n",
    "\n",
    "me.setBirthday(datetime.date(1991, 8, 4))\n",
    "him.setBirthday(datetime.date(1996, 8, 16))\n",
    "her.setBirthday(datetime.date(1994, 8, 16))\n",
    "\n",
    "print(him.getName(), 'is', him.getAge(), 'days old')"
   ]
  },
  {
   "cell_type": "markdown",
   "metadata": {
    "id": "8iYbj8qNL-7a"
   },
   "source": [
    "## Mengakses method getBirthday() dari tiap Object"
   ]
  },
  {
   "cell_type": "code",
   "execution_count": null,
   "metadata": {
    "id": "8nFcEH15L-7b",
    "outputId": "63dffb5c-ab67-4944-c6f9-c16f71372080"
   },
   "outputs": [
    {
     "name": "stdout",
     "output_type": "stream",
     "text": [
      "1996-08-16\n",
      "1994-08-16\n",
      "1991-08-04\n"
     ]
    }
   ],
   "source": [
    "print(him.getBirthday())\n",
    "print(her.getBirthday())\n",
    "print(me.getBirthday())"
   ]
  },
  {
   "cell_type": "markdown",
   "metadata": {
    "id": "ZeHsXffDL-7b"
   },
   "source": [
    "## Membuat List dari Object"
   ]
  },
  {
   "cell_type": "code",
   "execution_count": null,
   "metadata": {
    "id": "UqzTh15FL-7c",
    "outputId": "9a3cb726-937d-4fbd-fa27-4eb4b8f0fdea"
   },
   "outputs": [
    {
     "name": "stdout",
     "output_type": "stream",
     "text": [
      "Michael Guttag\n",
      "Barack Hussein Obama\n",
      "Madonna\n",
      "\n",
      "Michael Guttag\n",
      "Madonna\n",
      "Barack Hussein Obama\n"
     ]
    }
   ],
   "source": [
    "personsList = [me, him, her]\n",
    "for person in personsList:\n",
    "    print(person)\n",
    "print()\n",
    "\n",
    "personsList.sort()\n",
    "for person in personsList:\n",
    "    print(person)"
   ]
  },
  {
   "cell_type": "markdown",
   "metadata": {
    "id": "1iRk7VprL-7d"
   },
   "source": [
    "## Membuat DataFrame dari Object"
   ]
  },
  {
   "cell_type": "code",
   "execution_count": null,
   "metadata": {
    "id": "T_-hyZXwL-7d",
    "outputId": "72b90edd-59e1-42e2-b670-b337e6d9ff37"
   },
   "outputs": [
    {
     "data": {
      "text/html": [
       "<div>\n",
       "<style scoped>\n",
       "    .dataframe tbody tr th:only-of-type {\n",
       "        vertical-align: middle;\n",
       "    }\n",
       "\n",
       "    .dataframe tbody tr th {\n",
       "        vertical-align: top;\n",
       "    }\n",
       "\n",
       "    .dataframe thead th {\n",
       "        text-align: right;\n",
       "    }\n",
       "</style>\n",
       "<table border=\"1\" class=\"dataframe\">\n",
       "  <thead>\n",
       "    <tr style=\"text-align: right;\">\n",
       "      <th></th>\n",
       "      <th>Nama</th>\n",
       "      <th>Tanggal Lahir</th>\n",
       "      <th>Days Old</th>\n",
       "    </tr>\n",
       "  </thead>\n",
       "  <tbody>\n",
       "    <tr>\n",
       "      <th>0</th>\n",
       "      <td>Michael Guttag</td>\n",
       "      <td>1991-08-04</td>\n",
       "      <td>10834</td>\n",
       "    </tr>\n",
       "    <tr>\n",
       "      <th>1</th>\n",
       "      <td>Barack Hussein Obama</td>\n",
       "      <td>1996-08-16</td>\n",
       "      <td>8995</td>\n",
       "    </tr>\n",
       "    <tr>\n",
       "      <th>2</th>\n",
       "      <td>Madonna</td>\n",
       "      <td>1994-08-16</td>\n",
       "      <td>9726</td>\n",
       "    </tr>\n",
       "  </tbody>\n",
       "</table>\n",
       "</div>"
      ],
      "text/plain": [
       "                   Nama Tanggal Lahir  Days Old\n",
       "0        Michael Guttag    1991-08-04     10834\n",
       "1  Barack Hussein Obama    1996-08-16      8995\n",
       "2               Madonna    1994-08-16      9726"
      ]
     },
     "execution_count": 8,
     "metadata": {
      "tags": []
     },
     "output_type": "execute_result"
    }
   ],
   "source": [
    "import pandas as pd\n",
    "import numpy as np\n",
    "\n",
    "dfPerson = pd.DataFrame([[me.getName(), me.getBirthday(), me.getAge()], \n",
    "                         [him.getName(), him.getBirthday(), him.getAge()], \n",
    "                         [her.getName(), her.getBirthday(), her.getAge()], ],\n",
    "                        columns=['Nama', 'Tanggal Lahir', 'Days Old'])\n",
    "dfPerson"
   ]
  },
  {
   "cell_type": "code",
   "execution_count": null,
   "metadata": {
    "id": "MeEcqyCkL-7e"
   },
   "outputs": [],
   "source": []
  }
 ],
 "metadata": {
  "colab": {
   "collapsed_sections": [],
   "name": "OOP Python 1.ipynb",
   "provenance": []
  },
  "kernelspec": {
   "display_name": "Python 3",
   "language": "python",
   "name": "python3"
  },
  "language_info": {
   "codemirror_mode": {
    "name": "ipython",
    "version": 3
   },
   "file_extension": ".py",
   "mimetype": "text/x-python",
   "name": "python",
   "nbconvert_exporter": "python",
   "pygments_lexer": "ipython3",
   "version": "3.7.3"
  }
 },
 "nbformat": 4,
 "nbformat_minor": 4
}
