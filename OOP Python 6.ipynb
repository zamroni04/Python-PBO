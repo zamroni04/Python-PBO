{
 "cells": [
  {
   "cell_type": "markdown",
   "metadata": {},
   "source": [
    "# Capain Praktikum 6\n",
    "\n",
    "Diharapkan mahasiswa/i setelah mengikuti praktikum 4 - PBO, mampu memahami & mengimplementasikan :\n",
    "\n",
    "1. Abstract Class\n",
    "\n",
    "Referensi :\n",
    "1. https://www.geeksforgeeks.org/abstract-classes-in-python/\n",
    "2. https://www.geeksforgeeks.org/python-interface-module/"
   ]
  },
  {
   "cell_type": "markdown",
   "metadata": {},
   "source": [
    "# Abstract Method"
   ]
  },
  {
   "cell_type": "code",
   "execution_count": 2,
   "metadata": {},
   "outputs": [],
   "source": [
    "from abc import ABC, abstractmethod\n",
    "\n",
    "class Polygon(ABC):\n",
    "    @abstractmethod\n",
    "    def noofsides(self):\n",
    "        pass\n",
    "\n",
    "class Triangle(Polygon): # merupakan class Triangle, Triangle turunan dari class Polygon\n",
    "    def noofsides(self): # overriding abstract method\n",
    "        print(\"I have 3 sides\")\n",
    "\n",
    "class Pentagon(Polygon):    \n",
    "    def noofsides(self):# overriding abstract method\n",
    "        print(\"I have 5 sides\")\n",
    "\n",
    "class Hexagon(Polygon):\n",
    "    def noofsides(self):# overriding abstract method\n",
    "        print(\"I have 6 sides\")\n",
    "\n",
    "class Quadrilateral(Polygon):\n",
    "    def noofsides(self):# overriding abstract method\n",
    "        print(\"I have 4 sides\")"
   ]
  },
  {
   "cell_type": "markdown",
   "metadata": {},
   "source": [
    "# Main Code"
   ]
  },
  {
   "cell_type": "code",
   "execution_count": 3,
   "metadata": {},
   "outputs": [
    {
     "name": "stdout",
     "output_type": "stream",
     "text": [
      "I have 3 sides\n",
      "I have 4 sides\n",
      "I have 5 sides\n",
      "I have 6 sides\n"
     ]
    }
   ],
   "source": [
    "R = Triangle()\n",
    "R.noofsides()\n",
    "\n",
    "K = Quadrilateral()\n",
    "K.noofsides()\n",
    "\n",
    "R = Pentagon()\n",
    "R.noofsides()\n",
    "\n",
    "K = Hexagon()\n",
    "K.noofsides()"
   ]
  },
  {
   "cell_type": "code",
   "execution_count": null,
   "metadata": {},
   "outputs": [],
   "source": []
  }
 ],
 "metadata": {
  "kernelspec": {
   "display_name": "Python 3",
   "language": "python",
   "name": "python3"
  },
  "language_info": {
   "codemirror_mode": {
    "name": "ipython",
    "version": 3
   },
   "file_extension": ".py",
   "mimetype": "text/x-python",
   "name": "python",
   "nbconvert_exporter": "python",
   "pygments_lexer": "ipython3",
   "version": "3.8.3"
  }
 },
 "nbformat": 4,
 "nbformat_minor": 4
}
