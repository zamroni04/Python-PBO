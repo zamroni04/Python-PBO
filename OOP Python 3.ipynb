{
 "cells": [
  {
   "cell_type": "markdown",
   "metadata": {
    "id": "8Slrkc5Nd1sw"
   },
   "source": [
    "# Capain Praktikum 3\n",
    "\n",
    "Diharapkan mahasiswa/i setelah mengikuti praktikum 3 - PBO, mampu memahami & mengimplementasikan :\n",
    "\n",
    "1. Enumerasi\n",
    "\n",
    "Referensi :\n",
    "1. https://realpython.com/python-enumerate/#iterating-with-for-loops-in-python"
   ]
  },
  {
   "cell_type": "markdown",
   "metadata": {
    "id": "vNdISbtReB0P"
   },
   "source": [
    "# Looping"
   ]
  },
  {
   "cell_type": "code",
   "execution_count": 2,
   "metadata": {
    "colab": {
     "base_uri": "https://localhost:8080/"
    },
    "executionInfo": {
     "elapsed": 448,
     "status": "ok",
     "timestamp": 1622699656619,
     "user": {
      "displayName": "ZRI -",
      "photoUrl": "https://lh3.googleusercontent.com/a-/AOh14GjTWrj1bhN5GNJhO1Hd9tpWnM0OVqHqnnqcCB5PbQ=s64",
      "userId": "04580829095111164986"
     },
     "user_tz": -420
    },
    "id": "dVdjRnsSajgF",
    "outputId": "6bf7cd41-1966-4e8f-d148-809acf986006"
   },
   "outputs": [
    {
     "name": "stdout",
     "output_type": "stream",
     "text": [
      "andy\n",
      "bagus\n",
      "cindy\n",
      "deny\n"
     ]
    }
   ],
   "source": [
    "nama_mahasiswa = [\"andy\", \"bagus\", \"cindy\", \"deny\"]\n",
    "\n",
    "for value in nama_mahasiswa:\n",
    "    print(value)"
   ]
  },
  {
   "cell_type": "markdown",
   "metadata": {
    "id": "nGLZO-4peHj_"
   },
   "source": [
    "# Looping dan Enumerasi"
   ]
  },
  {
   "cell_type": "code",
   "execution_count": 3,
   "metadata": {
    "colab": {
     "base_uri": "https://localhost:8080/"
    },
    "executionInfo": {
     "elapsed": 304,
     "status": "ok",
     "timestamp": 1622699659442,
     "user": {
      "displayName": "ZRI -",
      "photoUrl": "https://lh3.googleusercontent.com/a-/AOh14GjTWrj1bhN5GNJhO1Hd9tpWnM0OVqHqnnqcCB5PbQ=s64",
      "userId": "04580829095111164986"
     },
     "user_tz": -420
    },
    "id": "4Of0iHXcb7LY",
    "outputId": "b9bdd56a-3c9e-42a7-b5ce-6ac71b5602c5"
   },
   "outputs": [
    {
     "name": "stdout",
     "output_type": "stream",
     "text": [
      "0 andy\n",
      "1 bagus\n",
      "2 cindy\n",
      "3 deny\n"
     ]
    }
   ],
   "source": [
    "for index, value in enumerate(nama_mahasiswa):\n",
    "    print(index, value)"
   ]
  },
  {
   "cell_type": "markdown",
   "metadata": {
    "id": "D5xZ4akkeMBh"
   },
   "source": [
    "# Manfaat Enumerasi 1"
   ]
  },
  {
   "cell_type": "code",
   "execution_count": 4,
   "metadata": {
    "colab": {
     "base_uri": "https://localhost:8080/"
    },
    "executionInfo": {
     "elapsed": 483,
     "status": "ok",
     "timestamp": 1622699841614,
     "user": {
      "displayName": "ZRI -",
      "photoUrl": "https://lh3.googleusercontent.com/a-/AOh14GjTWrj1bhN5GNJhO1Hd9tpWnM0OVqHqnnqcCB5PbQ=s64",
      "userId": "04580829095111164986"
     },
     "user_tz": -420
    },
    "id": "HINkH4zJcYfX",
    "outputId": "b1540760-7d58-45ca-e818-11e7521c31e4"
   },
   "outputs": [
    {
     "name": "stdout",
     "output_type": "stream",
     "text": [
      "Extra verbose output for: Test User\n",
      "Test User\n",
      "Real User 1\n",
      "Real User 2\n"
     ]
    }
   ],
   "source": [
    "users = [\"Test User\", \"Real User 1\", \"Real User 2\"]\n",
    "for index, user in enumerate(users):\n",
    "    if index == 0:\n",
    "        print(\"Extra verbose output for:\", user)\n",
    "    print(user)"
   ]
  },
  {
   "cell_type": "markdown",
   "metadata": {
    "id": "pR_7vT9FeRBJ"
   },
   "source": [
    "# Manfaat Enumerasi 2"
   ]
  },
  {
   "cell_type": "code",
   "execution_count": 5,
   "metadata": {
    "colab": {
     "base_uri": "https://localhost:8080/"
    },
    "executionInfo": {
     "elapsed": 530,
     "status": "ok",
     "timestamp": 1622700280077,
     "user": {
      "displayName": "ZRI -",
      "photoUrl": "https://lh3.googleusercontent.com/a-/AOh14GjTWrj1bhN5GNJhO1Hd9tpWnM0OVqHqnnqcCB5PbQ=s64",
      "userId": "04580829095111164986"
     },
     "user_tz": -420
    },
    "id": "6w-lLKOzc_Pg",
    "outputId": "735d6062-a730-4ddb-db13-615057120c84"
   },
   "outputs": [
    {
     "name": "stdout",
     "output_type": "stream",
     "text": [
      "Numeric :  [1, 2, 3, 4, 5, 6, 7, 8, 9, 10, 11, 12, 13, 14, 15, 16, 17, 18, 19, 20]\n",
      "Numeric Even Only :  [2, 4, 6, 8, 10, 12, 14, 16, 18, 20]\n",
      "\n",
      "Alphabet :  abcdefghijklmnopqrstuvwxyz\n",
      "Alphabet Even Only :  ['b', 'd', 'f', 'h', 'j', 'l', 'n', 'p', 'r', 't', 'v', 'x', 'z']\n"
     ]
    }
   ],
   "source": [
    "def even_items(iterable):\n",
    "    \"\"\"Return items from ``iterable`` when their index is even.\"\"\"\n",
    "    values = []\n",
    "    for index, value in enumerate(iterable, start=1):\n",
    "        if not index % 2:\n",
    "            values.append(value)\n",
    "    return values\n",
    "\n",
    "numeric = list(range(1, 21))\n",
    "alphabet = \"abcdefghijklmnopqrstuvwxyz\"\n",
    "\n",
    "print(\"Numeric : \",numeric)\n",
    "print(\"Numeric Even Only : \", even_items(numeric))\n",
    "print(\"\")\n",
    "print(\"Alphabet : \",alphabet)\n",
    "print(\"Alphabet Even Only : \", even_items(alphabet))"
   ]
  },
  {
   "cell_type": "code",
   "execution_count": null,
   "metadata": {},
   "outputs": [],
   "source": []
  }
 ],
 "metadata": {
  "colab": {
   "authorship_tag": "ABX9TyNKjcJ418E3pTedEnBq+sV/",
   "collapsed_sections": [],
   "name": "OOP Python 3.ipynb",
   "provenance": [],
   "toc_visible": true
  },
  "kernelspec": {
   "display_name": "Python 3",
   "language": "python",
   "name": "python3"
  },
  "language_info": {
   "codemirror_mode": {
    "name": "ipython",
    "version": 3
   },
   "file_extension": ".py",
   "mimetype": "text/x-python",
   "name": "python",
   "nbconvert_exporter": "python",
   "pygments_lexer": "ipython3",
   "version": "3.7.3"
  }
 },
 "nbformat": 4,
 "nbformat_minor": 4
}
