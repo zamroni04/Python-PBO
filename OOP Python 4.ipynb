{
 "cells": [
  {
   "cell_type": "markdown",
   "metadata": {},
   "source": [
    "# Capain Praktikum 4\n",
    "\n",
    "Diharapkan mahasiswa/i setelah mengikuti praktikum 4 - PBO, mampu memahami & mengimplementasikan :\n",
    "\n",
    "1. Inheritance (Pewarisan)\n",
    "\n",
    "Referensi :\n",
    "1. https://data-flair.training/blogs/python-inheritance/\n",
    "2. https://sis.binus.ac.id/2017/09/07/inheritance/"
   ]
  },
  {
   "attachments": {
    "6207e0b4-6ce1-4e86-a7f6-8d28937a0065.png": {
     "image/png": "[encoded data removed]"
    }
   },
   "cell_type": "markdown",
   "metadata": {},
   "source": [
    "# Inheritance (Pewarisan)\n",
    "\n",
    "![image.png](attachment:6207e0b4-6ce1-4e86-a7f6-8d28937a0065.png)"
   ]
  },
  {
   "cell_type": "code",
   "execution_count": 1,
   "metadata": {},
   "outputs": [
    {
     "data": {
      "text/plain": [
       "True"
      ]
     },
     "execution_count": 1,
     "metadata": {},
     "output_type": "execute_result"
    }
   ],
   "source": [
    "class Person:\n",
    "    pass\n",
    "\n",
    "class Student(Person):\n",
    "    pass\n",
    "\n",
    "issubclass(Student,Person)"
   ]
  },
  {
   "cell_type": "markdown",
   "metadata": {},
   "source": [
    "# 1. Single Inheritance in Python"
   ]
  },
  {
   "cell_type": "code",
   "execution_count": 7,
   "metadata": {},
   "outputs": [
    {
     "name": "stdout",
     "output_type": "stream",
     "text": [
      "0\n",
      "I'm a fruit\n",
      "I'm citrus\n",
      "3\n"
     ]
    }
   ],
   "source": [
    "x=0\n",
    "class fruit:\n",
    "    def __init__(self):\n",
    "        global x\n",
    "        x+=1\n",
    "        print(\"I'm a fruit\")                          \n",
    "\n",
    "class citrus(fruit):\n",
    "    def __init__(self):\n",
    "        super().__init__()\n",
    "        global x\n",
    "        x+=2\n",
    "        print(\"I'm citrus\")                           \n",
    "\n",
    "print(x)\n",
    "\n",
    "lime=citrus()\n",
    "print(x)"
   ]
  },
  {
   "cell_type": "markdown",
   "metadata": {},
   "source": [
    "# 2. Python Multiple Inheritance"
   ]
  },
  {
   "cell_type": "code",
   "execution_count": 8,
   "metadata": {},
   "outputs": [
    {
     "data": {
      "text/plain": [
       "True"
      ]
     },
     "execution_count": 8,
     "metadata": {},
     "output_type": "execute_result"
    }
   ],
   "source": [
    "class Color:\n",
    "    pass\n",
    "\n",
    "class Fruit:\n",
    "    pass\n",
    "\n",
    "class Orange(Color,Fruit):\n",
    "    pass\n",
    "\n",
    "issubclass(Orange,Color) and issubclass(Orange,Fruit)"
   ]
  },
  {
   "cell_type": "markdown",
   "metadata": {},
   "source": [
    "# 3. Multilevel Inheritance in Python"
   ]
  },
  {
   "cell_type": "code",
   "execution_count": 9,
   "metadata": {},
   "outputs": [
    {
     "data": {
      "text/plain": [
       "1"
      ]
     },
     "execution_count": 9,
     "metadata": {},
     "output_type": "execute_result"
    }
   ],
   "source": [
    "class A:\n",
    "    x=1         \n",
    "\n",
    "class B(A):\n",
    "    pass\n",
    "\n",
    "class C(B):\n",
    "    pass\n",
    "\n",
    "cobj=C()\n",
    "cobj.x"
   ]
  },
  {
   "cell_type": "markdown",
   "metadata": {},
   "source": [
    "# 4. Hierarchical Inheritance in Python"
   ]
  },
  {
   "cell_type": "code",
   "execution_count": 10,
   "metadata": {},
   "outputs": [
    {
     "data": {
      "text/plain": [
       "True"
      ]
     },
     "execution_count": 10,
     "metadata": {},
     "output_type": "execute_result"
    }
   ],
   "source": [
    "class A:\n",
    "    pass\n",
    "\n",
    "class B(A):\n",
    "    pass\n",
    "\n",
    "class C(A):\n",
    "    pass\n",
    "\n",
    "issubclass(B,A) and issubclass(C,A)"
   ]
  },
  {
   "cell_type": "markdown",
   "metadata": {},
   "source": [
    "# 5. Hybrid Inheritance in Python\n"
   ]
  },
  {
   "cell_type": "code",
   "execution_count": 11,
   "metadata": {},
   "outputs": [
    {
     "data": {
      "text/plain": [
       "1"
      ]
     },
     "execution_count": 11,
     "metadata": {},
     "output_type": "execute_result"
    }
   ],
   "source": [
    "class A:\n",
    "    x=1       \n",
    "\n",
    "class B(A):\n",
    "    pass\n",
    "\n",
    "class C(A):\n",
    "    pass\n",
    "\n",
    "class D(B,C):\n",
    "    pass\n",
    "\n",
    "dobj=D()\n",
    "dobj.x"
   ]
  },
  {
   "cell_type": "markdown",
   "metadata": {},
   "source": [
    "# Python Inheritance Super Function – Super()"
   ]
  },
  {
   "cell_type": "code",
   "execution_count": 12,
   "metadata": {},
   "outputs": [
    {
     "name": "stdout",
     "output_type": "stream",
     "text": [
      "Starting engine\n",
      "I have two wheels\n",
      "Stopping engine\n"
     ]
    }
   ],
   "source": [
    "class Vehicle:\n",
    "    def start(self):\n",
    "        print(\"Starting engine\")\n",
    "    \n",
    "    def stop(self):\n",
    "        print(\"Stopping engine\")                            \n",
    "\n",
    "class TwoWheeler(Vehicle):\n",
    "    def say(self):\n",
    "        super().start()\n",
    "        print(\"I have two wheels\")\n",
    "        super().stop()                            \n",
    "        \n",
    "Pulsar=TwoWheeler()\n",
    "Pulsar.say()"
   ]
  },
  {
   "cell_type": "code",
   "execution_count": null,
   "metadata": {},
   "outputs": [],
   "source": []
  }
 ],
 "metadata": {
  "kernelspec": {
   "display_name": "Python 3",
   "language": "python",
   "name": "python3"
  },
  "language_info": {
   "codemirror_mode": {
    "name": "ipython",
    "version": 3
   },
   "file_extension": ".py",
   "mimetype": "text/x-python",
   "name": "python",
   "nbconvert_exporter": "python",
   "pygments_lexer": "ipython3",
   "version": "3.8.3"
  }
 },
 "nbformat": 4,
 "nbformat_minor": 4
}
